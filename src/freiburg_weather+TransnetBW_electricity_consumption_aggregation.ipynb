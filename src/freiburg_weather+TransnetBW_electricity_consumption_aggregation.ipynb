{
 "cells": [
  {
   "cell_type": "code",
   "execution_count": 7,
   "metadata": {},
   "outputs": [],
   "source": [
    "import pandas as pd"
   ]
  },
  {
   "cell_type": "code",
   "execution_count": 8,
   "metadata": {},
   "outputs": [],
   "source": [
    "# Read Freiburg's weather data \n",
    "freib_weath = pd.read_csv(\"../data/freiburg_weather_230805_250204.csv\", delimiter=\";\")\n",
    "freib_weath['Measurement_Date'] = pd.to_datetime(freib_weath['Measurement_Date'], format='%Y-%m-%d')\n",
    "freib_weath.set_index('Measurement_Date', inplace=True)"
   ]
  },
  {
   "cell_type": "code",
   "execution_count": 9,
   "metadata": {},
   "outputs": [],
   "source": [
    "# Read and do some data transformation on electricity consumption of TransnetBW area\n",
    "trsnet_consumption = pd.read_csv(\"../data/TransnetBW_electricity_consumption_day_230805_250204.csv\", delimiter=\";\", thousands=\",\")\n",
    "trsnet_consumption['Start date'] = pd.to_datetime(trsnet_consumption['Start date'], format='%b %d, %Y')\n",
    "trsnet_consumption = trsnet_consumption.drop(columns=['End date'])\n",
    "trsnet_consumption.set_index('Start date', inplace=True)"
   ]
  },
  {
   "cell_type": "code",
   "execution_count": 10,
   "metadata": {},
   "outputs": [],
   "source": [
    "df = pd.concat([trsnet_consumption, freib_weath], axis=1)\n",
    "df.to_csv(\"../data/agg_freiburg_weather_TransnetBW_electricity_consumption.csv\", sep=\";\")"
   ]
  }
 ],
 "metadata": {
  "kernelspec": {
   "display_name": "Python 3",
   "language": "python",
   "name": "python3"
  },
  "language_info": {
   "codemirror_mode": {
    "name": "ipython",
    "version": 3
   },
   "file_extension": ".py",
   "mimetype": "text/x-python",
   "name": "python",
   "nbconvert_exporter": "python",
   "pygments_lexer": "ipython3",
   "version": "3.12.9"
  }
 },
 "nbformat": 4,
 "nbformat_minor": 2
}
