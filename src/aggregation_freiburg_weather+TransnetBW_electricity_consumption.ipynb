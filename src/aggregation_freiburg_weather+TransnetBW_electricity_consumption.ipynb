{
 "cells": [
  {
   "cell_type": "code",
   "execution_count": 39,
   "metadata": {},
   "outputs": [],
   "source": [
    "import pandas as pd"
   ]
  },
  {
   "cell_type": "code",
   "execution_count": 40,
   "metadata": {},
   "outputs": [],
   "source": [
    "# Read Freiburg's weather data \n",
    "freib_weath = pd.read_csv(\"../data/freiburg aggregated weather data/freiburg_weather_230805_250204.csv\", delimiter=\";\")\n",
    "freib_weath['Measurement_Date'] = pd.to_datetime(freib_weath['Measurement_Date'], format='%Y-%m-%d')\n",
    "freib_weath.set_index('Measurement_Date', inplace=True)"
   ]
  },
  {
   "cell_type": "code",
   "execution_count": 41,
   "metadata": {},
   "outputs": [],
   "source": [
    "#Read Freiburg's weather data before 2023-08-05\n",
    "freib_weath_old = pd.read_csv(\"../data/freiburg aggregated weather data/freiburg_weather_150101_230805.csv\", delimiter=\";\")\n",
    "freib_weath_old['Measurement_Date'] = pd.to_datetime(freib_weath_old['Measurement_Date'], format='%Y-%m-%d')\n",
    "freib_weath_old.set_index('Measurement_Date', inplace=True)"
   ]
  },
  {
   "cell_type": "code",
   "execution_count": 42,
   "metadata": {},
   "outputs": [],
   "source": [
    "# Read and do some data transformation on electricity consumption of TransnetBW area\n",
    "trsnet_consumption = pd.read_csv(\"../data/transnetBW electricity dataset/TransnetBW_electricity_consumption_day_150101_250204.csv\", delimiter=\";\", thousands=\",\")\n",
    "trsnet_consumption['Start date'] = pd.to_datetime(trsnet_consumption['Start date'], format='%b %d, %Y')\n",
    "trsnet_consumption = trsnet_consumption.drop(columns=['End date'])\n",
    "trsnet_consumption.set_index('Start date', inplace=True)"
   ]
  },
  {
   "cell_type": "code",
   "execution_count": 43,
   "metadata": {},
   "outputs": [],
   "source": [
    "# Combine all Freiburg's weather data\n",
    "freib_weath_final = pd.concat([freib_weath_old,freib_weath], axis=0)"
   ]
  },
  {
   "cell_type": "code",
   "execution_count": 44,
   "metadata": {},
   "outputs": [],
   "source": [
    "df = pd.concat([trsnet_consumption, freib_weath_final], axis=1)\n",
    "df.to_csv(\"../data/DATASET_final_untransformed_uncleaned.csv\", sep=\";\",index=True, index_label=\"Date\")"
   ]
  }
 ],
 "metadata": {
  "kernelspec": {
   "display_name": "Python 3",
   "language": "python",
   "name": "python3"
  },
  "language_info": {
   "codemirror_mode": {
    "name": "ipython",
    "version": 3
   },
   "file_extension": ".py",
   "mimetype": "text/x-python",
   "name": "python",
   "nbconvert_exporter": "python",
   "pygments_lexer": "ipython3",
   "version": "3.12.9"
  }
 },
 "nbformat": 4,
 "nbformat_minor": 2
}
