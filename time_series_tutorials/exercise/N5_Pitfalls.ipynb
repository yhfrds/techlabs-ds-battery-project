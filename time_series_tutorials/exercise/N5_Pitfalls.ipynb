{
  "cells": [
    {
      "cell_type": "code",
      "execution_count": null,
      "metadata": {
        "id": "z_27VwfQ49ew"
      },
      "outputs": [],
      "source": [
        "# https://www.sktime.net/en/latest/examples/01a_forecasting_sklearn.html"
      ]
    },
    {
      "cell_type": "code",
      "source": [
        "!pip install sktime"
      ],
      "metadata": {
        "id": "inoTBFpl4_nD",
        "colab": {
          "base_uri": "https://localhost:8080/"
        },
        "outputId": "e197f859-2684-4cc3-bf67-90c33fd423c7"
      },
      "execution_count": null,
      "outputs": [
        {
          "output_type": "stream",
          "name": "stdout",
          "text": [
            "Collecting sktime\n",
            "  Downloading sktime-0.26.0-py3-none-any.whl (21.8 MB)\n",
            "\u001b[2K     \u001b[90m━━━━━━━━━━━━━━━━━━━━━━━━━━━━━━━━━━━━━━━━\u001b[0m \u001b[32m21.8/21.8 MB\u001b[0m \u001b[31m29.4 MB/s\u001b[0m eta \u001b[36m0:00:00\u001b[0m\n",
            "\u001b[?25hRequirement already satisfied: numpy<1.27,>=1.21 in /usr/local/lib/python3.10/dist-packages (from sktime) (1.23.5)\n",
            "Requirement already satisfied: packaging in /usr/local/lib/python3.10/dist-packages (from sktime) (23.2)\n",
            "Requirement already satisfied: pandas<2.2.0,>=1.1 in /usr/local/lib/python3.10/dist-packages (from sktime) (1.5.3)\n",
            "Collecting scikit-base<0.8.0 (from sktime)\n",
            "  Downloading scikit_base-0.7.2-py3-none-any.whl (127 kB)\n",
            "\u001b[2K     \u001b[90m━━━━━━━━━━━━━━━━━━━━━━━━━━━━━━━━━━━━━━━━\u001b[0m \u001b[32m127.2/127.2 kB\u001b[0m \u001b[31m16.5 MB/s\u001b[0m eta \u001b[36m0:00:00\u001b[0m\n",
            "\u001b[?25hRequirement already satisfied: scikit-learn<1.5.0,>=0.24 in /usr/local/lib/python3.10/dist-packages (from sktime) (1.2.2)\n",
            "Requirement already satisfied: scipy<2.0.0,>=1.2 in /usr/local/lib/python3.10/dist-packages (from sktime) (1.11.4)\n",
            "Requirement already satisfied: python-dateutil>=2.8.1 in /usr/local/lib/python3.10/dist-packages (from pandas<2.2.0,>=1.1->sktime) (2.8.2)\n",
            "Requirement already satisfied: pytz>=2020.1 in /usr/local/lib/python3.10/dist-packages (from pandas<2.2.0,>=1.1->sktime) (2023.4)\n",
            "Requirement already satisfied: joblib>=1.1.1 in /usr/local/lib/python3.10/dist-packages (from scikit-learn<1.5.0,>=0.24->sktime) (1.3.2)\n",
            "Requirement already satisfied: threadpoolctl>=2.0.0 in /usr/local/lib/python3.10/dist-packages (from scikit-learn<1.5.0,>=0.24->sktime) (3.2.0)\n",
            "Requirement already satisfied: six>=1.5 in /usr/local/lib/python3.10/dist-packages (from python-dateutil>=2.8.1->pandas<2.2.0,>=1.1->sktime) (1.16.0)\n",
            "Installing collected packages: scikit-base, sktime\n",
            "Successfully installed scikit-base-0.7.2 sktime-0.26.0\n"
          ]
        }
      ]
    },
    {
      "cell_type": "markdown",
      "metadata": {
        "id": "AQNWKNlZ49ex"
      },
      "source": [
        "# Forecasting with sktime - appendix: forecasting, supervised regression, and pitfalls in confusing the two\n",
        "\n",
        "This notebook provides some supplementary explanation about the relation between forecasting as implemented in `sktime`, and the very common supervised prediction tasks as supported by `scikit-learn` and similar toolboxes.\n",
        "\n",
        "Key points discussed in this notebook:\n",
        "\n",
        "* Forecasting is not the same as supervised prediction;\n",
        "* Even though forecasting can be \"solved\" by algorithms for supervised prediction, this is indirect and requires careful composition;\n",
        "* From an interface perspective, this is correctly formulated as \"reduction\", i.e., use of a supervised predictor as a component within a forecaster;\n",
        "* There are a number of pitfalls if this is manually done - such as, over-optimistic performance evaluation, information leakage, or \"predicting the past\" type errors."
      ]
    },
    {
      "cell_type": "code",
      "execution_count": null,
      "metadata": {
        "id": "2jSHig3H49ez"
      },
      "outputs": [],
      "source": [
        "# general imports\n",
        "import numpy as np\n",
        "import pandas as pd"
      ]
    },
    {
      "cell_type": "markdown",
      "metadata": {
        "id": "SGfUMtEB49e0"
      },
      "source": [
        "## The pitfalls of misdiagnosing forecasting as supervised regression\n",
        "\n",
        "A common mistake is to misidentify a forecasting problem as supervised regression - after all, in both we predict numbers, so surely this must be the same thing?\n",
        "\n",
        "Indeed we predict numbers in both, but the set-up is different:\n",
        "\n",
        "* In supervised regression, we predict *label/target variables* from *feature variables*, in a cross-sectional set-up. This is after training on label/feature examples.\n",
        "* In forecasting, we predict *future values* from *past values*, of *the same variable*, in a temporal/sequential set-up. This is after training on the past.\n",
        "\n",
        "In the common data frame representation:\n",
        "\n",
        "* In supervised regression, we predict entries in a column from other columns. For this, we mainly make use of the statistical relation between those columns, learnt from examples of complete rows. The rows are all assumed exchangeable.\n",
        "* In forecasting, we predict new rows, assuming temporal ordering in the rows. For this, we mainly make use of the statistical relation between previous and subsequent rows, learnt from the example of the observed sequence of rows. The rows are not exchangeable, but in temporal sequence."
      ]
    },
    {
      "cell_type": "markdown",
      "metadata": {
        "id": "93AdiPmT49e1"
      },
      "source": [
        "### Pitfall 1: over-optimism in performance evaluation, false confidence in \"broken\" forecasters\n",
        "\n",
        "Confusing the two tasks may lead to information leakage, and over-optimistic performance evaluation. This is because in supervised regression the ordering of rows does not matter, and train/test split is usually performed uniformly. In forecasting, the ordering does matter, both in training and in evaluation.\n",
        "\n",
        "As subtle as it seems, this may have major practical consequences - since it can lead to the mistaken belief that a \"broken\" method is performant, which can cause damage to health, property, and other assets in real-life deployment.\n",
        "\n",
        "The example below shows \"problematic\" performance estimation, when mistakenly using the regression evaluation workflow for forecasting."
      ]
    },
    {
      "cell_type": "code",
      "execution_count": null,
      "metadata": {
        "execution": {
          "iopub.execute_input": "2021-04-10T16:07:06.641893Z",
          "iopub.status.busy": "2021-04-10T16:07:06.618023Z",
          "iopub.status.idle": "2021-04-10T16:07:06.787235Z",
          "shell.execute_reply": "2021-04-10T16:07:06.787715Z"
        },
        "id": "vH9qIGYp49e2"
      },
      "outputs": [],
      "source": [
        "from sklearn.model_selection import train_test_split\n",
        "\n",
        "from sktime.datasets import load_airline\n",
        "from sktime.split import temporal_train_test_split\n",
        "from sktime.utils.plotting import plot_series"
      ]
    },
    {
      "cell_type": "code",
      "execution_count": null,
      "metadata": {
        "id": "L4fiwh-Q49e2"
      },
      "outputs": [],
      "source": [
        "y = load_airline()"
      ]
    },
    {
      "cell_type": "code",
      "execution_count": null,
      "metadata": {
        "id": "wJfx58ht49e3",
        "colab": {
          "base_uri": "https://localhost:8080/",
          "height": 344
        },
        "outputId": "3bab43a7-bb60-411f-9b1d-7b411bb9b9ed"
      },
      "outputs": [
        {
          "output_type": "display_data",
          "data": {
            "text/plain": [
              "<Figure size 1600x400 with 1 Axes>"
            ],
            "image/png": "[encoded data removed]"
          },
          "metadata": {}
        }
      ],
      "source": [
        "y_train, y_test = train_test_split(y)\n",
        "plot_series(y_train.sort_index(), y_test.sort_index(), labels=[\"y_train\", \"y_test\"]);"
      ]
    },
    {
      "cell_type": "markdown",
      "metadata": {
        "id": "9acZfcSm49e4"
      },
      "source": [
        "This leads to leakage:\n",
        "\n",
        "> The data you are using to train a machine learning algorithm happens to have the information you are trying to predict.\n",
        "\n",
        "But `train_test_split(y, shuffle=False)` works, which is what `temporal_train_test_split(y)` does in `sktime`:"
      ]
    },
    {
      "cell_type": "code",
      "execution_count": null,
      "metadata": {
        "execution": {
          "iopub.execute_input": "2021-04-10T16:07:06.861616Z",
          "iopub.status.busy": "2021-04-10T16:07:06.861025Z",
          "iopub.status.idle": "2021-04-10T16:07:07.016695Z",
          "shell.execute_reply": "2021-04-10T16:07:07.017191Z"
        },
        "id": "N4oW7AzZ49e5",
        "colab": {
          "base_uri": "https://localhost:8080/",
          "height": 344
        },
        "outputId": "c39fb81b-9113-46fe-d540-5acf271b7eba"
      },
      "outputs": [
        {
          "output_type": "display_data",
          "data": {
            "text/plain": [
              "<Figure size 1600x400 with 1 Axes>"
            ],
            "image/png": "[encoded data removed]"
          },
          "metadata": {}
        }
      ],
      "source": [
        "y_train, y_test = temporal_train_test_split(y)\n",
        "plot_series(y_train, y_test, labels=[\"y_train\", \"y_test\"]);"
      ]
    },
    {
      "cell_type": "markdown",
      "metadata": {
        "id": "lAuq0PGP49e5"
      },
      "source": [
        "### Pitfall 2: obscure data manipulations, brittle boilerplate code to apply regressors\n",
        "\n",
        "It is common practice to apply supervised regressors after transforming the data for forecasting, through lagging - for example, in auto-regressive reduction strategies.\n",
        "\n",
        "Two important pitfalls appear right at the start:\n",
        "\n",
        "* a lot of boilerplate code has to be written to transform the data to make it ready for fitting - this is highly error prone\n",
        "* there are a number of implicit hyper-parameters here, such as window and lag size. If done without caution, these are not explicit or tracked in the experiment, which can lead to \"p-value hacking\".\n",
        "\n",
        "Below is an example of such boilerplate code to demonstrate this. The code is closely modelled on the R code used in the [M4 competition](https://github.com/Mcompetitions/M4-methods):"
      ]
    },
    {
      "cell_type": "code",
      "execution_count": null,
      "metadata": {
        "id": "vl-fHilu49e6"
      },
      "outputs": [],
      "source": [
        "# suppose we want to predict 3 years ahead\n",
        "fh = np.arange(1, 37)"
      ]
    },
    {
      "cell_type": "code",
      "execution_count": null,
      "metadata": {
        "execution": {
          "iopub.execute_input": "2021-04-10T16:07:07.023411Z",
          "iopub.status.busy": "2021-04-10T16:07:07.022907Z",
          "iopub.status.idle": "2021-04-10T16:07:07.024499Z",
          "shell.execute_reply": "2021-04-10T16:07:07.024998Z"
        },
        "id": "sq9yzj1949e6"
      },
      "outputs": [],
      "source": [
        "# slightly modified code from the M4 competition\n",
        "\n",
        "\n",
        "def split_into_train_test(data, in_num, fh):\n",
        "    \"\"\"\n",
        "    Splits the series into train and test sets.\n",
        "\n",
        "    Each step takes multiple points as inputs\n",
        "    :param data: an individual TS\n",
        "    :param fh: number of out of sample points\n",
        "    :param in_num: number of input points for the forecast\n",
        "    :return:\n",
        "    \"\"\"\n",
        "    train, test = data[:-fh], data[-(fh + in_num) :]\n",
        "    x_train, y_train = train[:-1], np.roll(train, -in_num)[:-in_num]\n",
        "    x_test, y_test = test[:-1], np.roll(test, -in_num)[:-in_num]\n",
        "    #     x_test, y_test = train[-in_num:], np.roll(test, -in_num)[:-in_num]\n",
        "\n",
        "    # reshape input to be [samples, time steps, features]\n",
        "    # (N-NF samples, 1 time step, 1 feature)\n",
        "    x_train = np.reshape(x_train, (-1, 1))\n",
        "    x_test = np.reshape(x_test, (-1, 1))\n",
        "    temp_test = np.roll(x_test, -1)\n",
        "    temp_train = np.roll(x_train, -1)\n",
        "    for _ in range(1, in_num):\n",
        "        x_train = np.concatenate((x_train[:-1], temp_train[:-1]), 1)\n",
        "        x_test = np.concatenate((x_test[:-1], temp_test[:-1]), 1)\n",
        "        temp_test = np.roll(temp_test, -1)[:-1]\n",
        "        temp_train = np.roll(temp_train, -1)[:-1]\n",
        "\n",
        "    return x_train, y_train, x_test, y_test"
      ]
    },
    {
      "cell_type": "code",
      "execution_count": null,
      "metadata": {
        "execution": {
          "iopub.execute_input": "2021-04-10T16:07:07.028644Z",
          "iopub.status.busy": "2021-04-10T16:07:07.028108Z",
          "iopub.status.idle": "2021-04-10T16:07:07.029820Z",
          "shell.execute_reply": "2021-04-10T16:07:07.030335Z"
        },
        "id": "o1HFhB5u49e7"
      },
      "outputs": [],
      "source": [
        "# here we split the time index, rather than the actual values,\n",
        "# to show how we split the windows\n",
        "feature_window, target_window, _, _ = split_into_train_test(\n",
        "    np.arange(len(y)), 10, len(fh)\n",
        ")"
      ]
    },
    {
      "cell_type": "markdown",
      "metadata": {
        "id": "D58BoL7c49e7"
      },
      "source": [
        "To better understand the prior data transformation, we can look at how we can split the training series into windows. Here we show the generated windows expressed as integer indices:"
      ]
    },
    {
      "cell_type": "code",
      "execution_count": null,
      "metadata": {
        "execution": {
          "iopub.execute_input": "2021-04-10T16:07:07.033532Z",
          "iopub.status.busy": "2021-04-10T16:07:07.033064Z",
          "iopub.status.idle": "2021-04-10T16:07:07.035278Z",
          "shell.execute_reply": "2021-04-10T16:07:07.035836Z"
        },
        "id": "WdT67Prs49e7",
        "colab": {
          "base_uri": "https://localhost:8080/"
        },
        "outputId": "c0686cf6-1074-41c4-d936-be0fc8bcfe3c"
      },
      "outputs": [
        {
          "output_type": "execute_result",
          "data": {
            "text/plain": [
              "array([[ 0,  1,  2,  3,  4,  5,  6,  7,  8,  9],\n",
              "       [ 1,  2,  3,  4,  5,  6,  7,  8,  9, 10],\n",
              "       [ 2,  3,  4,  5,  6,  7,  8,  9, 10, 11],\n",
              "       [ 3,  4,  5,  6,  7,  8,  9, 10, 11, 12],\n",
              "       [ 4,  5,  6,  7,  8,  9, 10, 11, 12, 13]])"
            ]
          },
          "metadata": {},
          "execution_count": 10
        }
      ],
      "source": [
        "feature_window[:5, :]"
      ]
    },
    {
      "cell_type": "code",
      "execution_count": null,
      "metadata": {
        "execution": {
          "iopub.execute_input": "2021-04-10T16:07:07.038874Z",
          "iopub.status.busy": "2021-04-10T16:07:07.038346Z",
          "iopub.status.idle": "2021-04-10T16:07:07.040421Z",
          "shell.execute_reply": "2021-04-10T16:07:07.040933Z"
        },
        "id": "gu6y6SIn49e8",
        "colab": {
          "base_uri": "https://localhost:8080/"
        },
        "outputId": "0f44205a-041d-4080-f1f1-ef4b318a5bb0"
      },
      "outputs": [
        {
          "output_type": "execute_result",
          "data": {
            "text/plain": [
              "array([10, 11, 12, 13, 14])"
            ]
          },
          "metadata": {},
          "execution_count": 12
        }
      ],
      "source": [
        "target_window[:5]"
      ]
    },
    {
      "cell_type": "code",
      "execution_count": null,
      "metadata": {
        "execution": {
          "iopub.execute_input": "2021-04-10T16:07:07.044178Z",
          "iopub.status.busy": "2021-04-10T16:07:07.043592Z",
          "iopub.status.idle": "2021-04-10T16:07:07.046140Z",
          "shell.execute_reply": "2021-04-10T16:07:07.046641Z"
        },
        "id": "PB5GeQYn49e8",
        "colab": {
          "base_uri": "https://localhost:8080/"
        },
        "outputId": "2270b3bb-28e9-41c0-e32f-e09fcce3b25a"
      },
      "outputs": [
        {
          "output_type": "stream",
          "name": "stdout",
          "text": [
            "(98, 10) (98,)\n"
          ]
        }
      ],
      "source": [
        "# now we can split the actual values of the time series\n",
        "x_train, y_train, x_test, y_test = split_into_train_test(y.values, 10, len(fh))\n",
        "print(x_train.shape, y_train.shape)"
      ]
    },
    {
      "cell_type": "code",
      "execution_count": null,
      "metadata": {
        "execution": {
          "iopub.execute_input": "2021-04-10T16:07:07.083439Z",
          "iopub.status.busy": "2021-04-10T16:07:07.082648Z",
          "iopub.status.idle": "2021-04-10T16:07:07.167067Z",
          "shell.execute_reply": "2021-04-10T16:07:07.167558Z"
        },
        "id": "j58aRl6N49e8",
        "colab": {
          "base_uri": "https://localhost:8080/",
          "height": 74
        },
        "outputId": "63009f5f-14de-4187-f223-070b2b2d5842"
      },
      "outputs": [
        {
          "output_type": "execute_result",
          "data": {
            "text/plain": [
              "RandomForestRegressor()"
            ],
            "text/html": [
              "<style>#sk-container-id-1 {color: black;background-color: white;}#sk-container-id-1 pre{padding: 0;}#sk-container-id-1 div.sk-toggleable {background-color: white;}#sk-container-id-1 label.sk-toggleable__label {cursor: pointer;display: block;width: 100%;margin-bottom: 0;padding: 0.3em;box-sizing: border-box;text-align: center;}#sk-container-id-1 label.sk-toggleable__label-arrow:before {content: \"▸\";float: left;margin-right: 0.25em;color: #696969;}#sk-container-id-1 label.sk-toggleable__label-arrow:hover:before {color: black;}#sk-container-id-1 div.sk-estimator:hover label.sk-toggleable__label-arrow:before {color: black;}#sk-container-id-1 div.sk-toggleable__content {max-height: 0;max-width: 0;overflow: hidden;text-align: left;background-color: #f0f8ff;}#sk-container-id-1 div.sk-toggleable__content pre {margin: 0.2em;color: black;border-radius: 0.25em;background-color: #f0f8ff;}#sk-container-id-1 input.sk-toggleable__control:checked~div.sk-toggleable__content {max-height: 200px;max-width: 100%;overflow: auto;}#sk-container-id-1 input.sk-toggleable__control:checked~label.sk-toggleable__label-arrow:before {content: \"▾\";}#sk-container-id-1 div.sk-estimator input.sk-toggleable__control:checked~label.sk-toggleable__label {background-color: #d4ebff;}#sk-container-id-1 div.sk-label input.sk-toggleable__control:checked~label.sk-toggleable__label {background-color: #d4ebff;}#sk-container-id-1 input.sk-hidden--visually {border: 0;clip: rect(1px 1px 1px 1px);clip: rect(1px, 1px, 1px, 1px);height: 1px;margin: -1px;overflow: hidden;padding: 0;position: absolute;width: 1px;}#sk-container-id-1 div.sk-estimator {font-family: monospace;background-color: #f0f8ff;border: 1px dotted black;border-radius: 0.25em;box-sizing: border-box;margin-bottom: 0.5em;}#sk-container-id-1 div.sk-estimator:hover {background-color: #d4ebff;}#sk-container-id-1 div.sk-parallel-item::after {content: \"\";width: 100%;border-bottom: 1px solid gray;flex-grow: 1;}#sk-container-id-1 div.sk-label:hover label.sk-toggleable__label {background-color: #d4ebff;}#sk-container-id-1 div.sk-serial::before {content: \"\";position: absolute;border-left: 1px solid gray;box-sizing: border-box;top: 0;bottom: 0;left: 50%;z-index: 0;}#sk-container-id-1 div.sk-serial {display: flex;flex-direction: column;align-items: center;background-color: white;padding-right: 0.2em;padding-left: 0.2em;position: relative;}#sk-container-id-1 div.sk-item {position: relative;z-index: 1;}#sk-container-id-1 div.sk-parallel {display: flex;align-items: stretch;justify-content: center;background-color: white;position: relative;}#sk-container-id-1 div.sk-item::before, #sk-container-id-1 div.sk-parallel-item::before {content: \"\";position: absolute;border-left: 1px solid gray;box-sizing: border-box;top: 0;bottom: 0;left: 50%;z-index: -1;}#sk-container-id-1 div.sk-parallel-item {display: flex;flex-direction: column;z-index: 1;position: relative;background-color: white;}#sk-container-id-1 div.sk-parallel-item:first-child::after {align-self: flex-end;width: 50%;}#sk-container-id-1 div.sk-parallel-item:last-child::after {align-self: flex-start;width: 50%;}#sk-container-id-1 div.sk-parallel-item:only-child::after {width: 0;}#sk-container-id-1 div.sk-dashed-wrapped {border: 1px dashed gray;margin: 0 0.4em 0.5em 0.4em;box-sizing: border-box;padding-bottom: 0.4em;background-color: white;}#sk-container-id-1 div.sk-label label {font-family: monospace;font-weight: bold;display: inline-block;line-height: 1.2em;}#sk-container-id-1 div.sk-label-container {text-align: center;}#sk-container-id-1 div.sk-container {/* jupyter's `normalize.less` sets `[hidden] { display: none; }` but bootstrap.min.css set `[hidden] { display: none !important; }` so we also need the `!important` here to be able to override the default hidden behavior on the sphinx rendered scikit-learn.org. See: https://github.com/scikit-learn/scikit-learn/issues/21755 */display: inline-block !important;position: relative;}#sk-container-id-1 div.sk-text-repr-fallback {display: none;}</style><div id=\"sk-container-id-1\" class=\"sk-top-container\"><div class=\"sk-text-repr-fallback\"><pre>RandomForestRegressor()</pre><b>In a Jupyter environment, please rerun this cell to show the HTML representation or trust the notebook. <br />On GitHub, the HTML representation is unable to render, please try loading this page with nbviewer.org.</b></div><div class=\"sk-container\" hidden><div class=\"sk-item\"><div class=\"sk-estimator sk-toggleable\"><input class=\"sk-toggleable__control sk-hidden--visually\" id=\"sk-estimator-id-1\" type=\"checkbox\" checked><label for=\"sk-estimator-id-1\" class=\"sk-toggleable__label sk-toggleable__label-arrow\">RandomForestRegressor</label><div class=\"sk-toggleable__content\"><pre>RandomForestRegressor()</pre></div></div></div></div></div>"
            ]
          },
          "metadata": {},
          "execution_count": 12
        }
      ],
      "source": [
        "from sklearn.ensemble import RandomForestRegressor\n",
        "\n",
        "model = RandomForestRegressor()\n",
        "model.fit(x_train, y_train)"
      ]
    },
    {
      "cell_type": "markdown",
      "metadata": {
        "id": "3IJomSXL49e9"
      },
      "source": [
        "To reiterate the potential pitfalls here:\n",
        "\n",
        "> The manual requires a lot of hand-written code which is often error-prone, not modular and not tuneable.\n",
        "\n",
        "These steps involve a number of implicit hyper-parameters:\n",
        "\n",
        "> * The way you slice the time series into windows (e.g. the window length);\n",
        "> * The way you generate forecasts (recursive strategy, direct strategy, other hybrid strategies)."
      ]
    },
    {
      "cell_type": "markdown",
      "metadata": {
        "id": "rFQFaGKW49e9"
      },
      "source": [
        "### Pitfall 3: Given a fitted regression algorithm, how can we generate forecasts?\n",
        "\n",
        "The next important pitfall comes at the end:\n",
        "\n",
        "If making predictions along the \"manual route\" for supervised regressors, the supervised regressor's outputs have to be transformed back into forecasts. This is easily forgotten, and invites errors in forecasts and evaluation (see pitfall no.1) - especially, if one does not cleanly keep track of which data is known at what time, or how to invert the transformation made in fitting.\n",
        "\n",
        "A naive user might now proceed like this:"
      ]
    },
    {
      "cell_type": "code",
      "execution_count": null,
      "metadata": {
        "execution": {
          "iopub.execute_input": "2021-04-10T16:07:07.171836Z",
          "iopub.status.busy": "2021-04-10T16:07:07.171233Z",
          "iopub.status.idle": "2021-04-10T16:07:07.173018Z",
          "shell.execute_reply": "2021-04-10T16:07:07.173506Z"
        },
        "id": "PEbCdogP49e9",
        "colab": {
          "base_uri": "https://localhost:8080/"
        },
        "outputId": "03ccec1e-2992-49a5-b6ed-b6b9ab4cd05d"
      },
      "outputs": [
        {
          "output_type": "stream",
          "name": "stdout",
          "text": [
            "(36, 10) (36,)\n"
          ]
        }
      ],
      "source": [
        "print(x_test.shape, y_test.shape)\n",
        "\n",
        "# add back time index to y_test\n",
        "y_test = pd.Series(y_test, index=y.index[-len(fh) :])"
      ]
    },
    {
      "cell_type": "code",
      "execution_count": null,
      "metadata": {
        "execution": {
          "iopub.execute_input": "2021-04-10T16:07:07.180067Z",
          "iopub.status.busy": "2021-04-10T16:07:07.177212Z",
          "iopub.status.idle": "2021-04-10T16:07:07.186432Z",
          "shell.execute_reply": "2021-04-10T16:07:07.186959Z"
        },
        "id": "kQX-zUFg49e9"
      },
      "outputs": [],
      "source": [
        "y_pred = model.predict(x_test)"
      ]
    },
    {
      "cell_type": "code",
      "execution_count": null,
      "metadata": {
        "id": "mpjVv4Eu49e-",
        "colab": {
          "base_uri": "https://localhost:8080/"
        },
        "outputId": "032c0b97-ace2-4325-9add-1bd95faf0d21"
      },
      "outputs": [
        {
          "output_type": "execute_result",
          "data": {
            "text/plain": [
              "0.10408087151949821"
            ]
          },
          "metadata": {},
          "execution_count": 15
        }
      ],
      "source": [
        "from sktime.performance_metrics.forecasting import mean_absolute_percentage_error\n",
        "\n",
        "mean_absolute_percentage_error(\n",
        "    y_test, pd.Series(y_pred, index=y_test.index), symmetric=False\n",
        ")"
      ]
    },
    {
      "cell_type": "markdown",
      "metadata": {
        "id": "drOIEUTG49e-"
      },
      "source": [
        "So easy, so wrong ... but what's the problem here? It's a bit subtle and not easy to spot:\n",
        "\n",
        "> We actually don't make a multi-step-ahead forecast up to the 36th step ahead. Instead, we make 36 single-step-ahead forecasts always using the most recent data. But that's a solution to a different learning task!\n",
        "\n",
        "To fix this problem, we could write some code to do this recursively as in the M4 competition:"
      ]
    },
    {
      "cell_type": "code",
      "execution_count": null,
      "metadata": {
        "execution": {
          "iopub.execute_input": "2021-04-10T16:07:07.228733Z",
          "iopub.status.busy": "2021-04-10T16:07:07.219457Z",
          "iopub.status.idle": "2021-04-10T16:07:07.421143Z",
          "shell.execute_reply": "2021-04-10T16:07:07.421651Z"
        },
        "id": "_zJw5Yty49e-"
      },
      "outputs": [],
      "source": [
        "# slightly modified code from the M4 study\n",
        "predictions = []\n",
        "last_window = x_train[-1, :].reshape(1, -1)  # make it into 2d array\n",
        "\n",
        "last_prediction = model.predict(last_window)[0]  # take value from array\n",
        "\n",
        "for i in range(len(fh)):\n",
        "    # append prediction\n",
        "    predictions.append(last_prediction)\n",
        "\n",
        "    # update last window using previously predicted value\n",
        "    last_window[0] = np.roll(last_window[0], -1)\n",
        "    last_window[0, (len(last_window[0]) - 1)] = last_prediction\n",
        "\n",
        "    # predict next step ahead\n",
        "    last_prediction = model.predict(last_window)[0]\n",
        "\n",
        "y_pred_rec = pd.Series(predictions, index=y_test.index)"
      ]
    },
    {
      "cell_type": "code",
      "execution_count": null,
      "metadata": {
        "id": "dv5Oj7AD49e-",
        "colab": {
          "base_uri": "https://localhost:8080/"
        },
        "outputId": "654eb840-3e7e-403e-93c4-e853fe5d7716"
      },
      "outputs": [
        {
          "output_type": "execute_result",
          "data": {
            "text/plain": [
              "0.17270357495952404"
            ]
          },
          "metadata": {},
          "execution_count": 17
        }
      ],
      "source": [
        "from sktime.performance_metrics.forecasting import mean_absolute_percentage_error\n",
        "\n",
        "mean_absolute_percentage_error(\n",
        "    y_test, pd.Series(y_pred_rec, index=y_test.index), symmetric=False\n",
        ")"
      ]
    },
    {
      "cell_type": "markdown",
      "metadata": {
        "id": "QSyzXjdr49e_"
      },
      "source": [
        "To summarize the potential pitfalls here:\n",
        "\n",
        "> Obtaining regressor predictions and converting them back into forecasts is non-trivial and error prone:\n",
        "> * some boilerplate code needs to be written, which just as in pitfall no.2 introduces potential for problems;\n",
        "> * It isn't exactly obvious that this boilerplate code had to be written in the first place, creating a subtle failure point."
      ]
    },
    {
      "cell_type": "markdown",
      "metadata": {
        "id": "hjqJKMHR49e_"
      },
      "source": [
        "### How does `sktime` help avoid the above pitfalls?\n",
        "\n",
        "`sktime` mitigates the above pitfalls with:\n",
        "\n",
        "* Its unified interface for forecasters - any strategy to produce forecasts is a forecaster. Through the unified interface, forecasters are directly compatible with deployment and evaluation workflows appropriate for forecasters;\n",
        "* Its declarative specification interface that minimizes boilerplate code - it's minimized to the bare necessities to tell `sktime` which forecaster you want to build.\n",
        "\n",
        "Nevertheless, `sktime` aims to be flexible, and tries to avoid to railroad the user into specific methodological choices."
      ]
    },
    {
      "cell_type": "code",
      "execution_count": null,
      "metadata": {
        "id": "Sr5sQUWG49e_"
      },
      "outputs": [],
      "source": [
        "from sklearn.neighbors import KNeighborsRegressor\n",
        "\n",
        "from sktime.forecasting.compose import make_reduction"
      ]
    },
    {
      "cell_type": "code",
      "execution_count": null,
      "metadata": {
        "id": "HSzrXu8049e_"
      },
      "outputs": [],
      "source": [
        "# declarative forecaster specification - just two lines!\n",
        "regressor = KNeighborsRegressor(n_neighbors=1)\n",
        "forecaster = make_reduction(regressor, window_length=15, strategy=\"recursive\")"
      ]
    },
    {
      "cell_type": "code",
      "execution_count": null,
      "metadata": {
        "id": "2Ek1i8Oz49e_"
      },
      "outputs": [],
      "source": [
        "forecaster.fit(y_train)\n",
        "y_pred = forecaster.predict(fh)"
      ]
    },
    {
      "cell_type": "markdown",
      "metadata": {
        "id": "EoSd-27l49fA"
      },
      "source": [
        "... and that's it!\n",
        "\n",
        "Note that there is no `x_train` or other boilerplate artefacts, since construction of the lagged features and other boilerplate code are taken care of by the forecaster internally.\n",
        "\n",
        "For more details on the `sktime` composition interface, refer to Section 3 of the main forecasting tutorial."
      ]
    },
    {
      "cell_type": "code",
      "execution_count": null,
      "metadata": {
        "id": "ewud-f8j49fA",
        "colab": {
          "base_uri": "https://localhost:8080/"
        },
        "outputId": "95dad3bd-8141-403e-bd66-2ccc47615959"
      },
      "outputs": [
        {
          "output_type": "execute_result",
          "data": {
            "text/plain": [
              "(Period\n",
              " 1949-06    135.0\n",
              " 1949-07    148.0\n",
              " 1949-08    148.0\n",
              " 1949-09    136.0\n",
              " Freq: M, Name: Number of airline passengers, dtype: float64,\n",
              " array([[135., 148.],\n",
              "        [148., 148.],\n",
              "        [148., 136.]]),\n",
              " Period\n",
              " 1949-01    112.0\n",
              " 1949-02    118.0\n",
              " 1949-03    132.0\n",
              " 1949-04    129.0\n",
              " 1949-05    121.0\n",
              " Freq: M, Name: Number of airline passengers, dtype: float64,\n",
              " array([[112., 118., 132., 129., 121.,   0.,   1.,   2.,   3.,   4.],\n",
              "        [118., 132., 129., 121., 135.,   1.,   2.,   3.,   4.,   5.]]))"
            ]
          },
          "metadata": {},
          "execution_count": 21
        }
      ],
      "source": [
        "from sktime.forecasting.compose._reduce import _sliding_window_transform\n",
        "from sktime.forecasting.base import ForecastingHorizon\n",
        "\n",
        "yw, Xw = _sliding_window_transform(y, window_length=5, fh=ForecastingHorizon([1, 2]), X=pd.Series(np.arange(len(y))))\n",
        "y[5:9], yw[:3], y[:5], Xw[:2]"
      ]
    },
    {
      "cell_type": "markdown",
      "metadata": {
        "id": "_XMo8aW1FyTH"
      },
      "source": [
        "> ## Machine learning for forecasting\n",
        ">\n",
        "> In order to apply machine learning models to forecasting problems, the time series has to be transformed into a matrix in which each value is related to the time window (lags) that precedes it.\n",
        ">\n",
        "> In a time series context, a lag with respect to a time step $t$ is defined as the values of the series at previous time steps. For example, lag 1 is the value at time step $t − 1$ and lag $m$ is the value at time step $t − m$.\n",
        ">\n",
        "> <p align=\"center\"><img src=\"https://github.com/JoaquinAmatRodrigo/cienciadedatos.net/blob/main/images/transform_timeseries.gif?raw=true\" style=\"width: 550px;\"></p>\n",
        ">\n",
        "> <center><font size='2.5'> <i>Time series transformation into a matrix of 5 lags and a vector with the value of the series that follows each row of the matrix.</i></font></center>\n",
        ">\n",
        "> This type of transformation also allows to include additional variables.\n",
        ">\n",
        "> <p align=\"center\"><img src=\"https://github.com/JoaquinAmatRodrigo/cienciadedatos.net/blob/main/images/matrix_transformation_with_exog_variable.png?raw=true\" style=\"width: 550px;\"></p>\n",
        ">\n",
        "> <center><font size='2.5'> <i>Time series transformation including an exogenous variable.</i></font></center>\n",
        ">\n",
        "> Once data have been rearranged into the new shape, any regression model can be trained to predict the next value (step) of the series. During model training, every row is considered a separate data instance, where values at lags 1, 2, ... $p$ are considered predictors for the target quantity of the time series at time step $p + 1$.\n",
        ">\n",
        ">\n",
        "> ## Multi-Step Time Series Forecasting\n",
        "\n",
        "> When working with time series, it is seldom needed to predict only the next element in the series ($t_{+1}$). Instead, the most common goal is to predict a whole future interval (($t_{+1}$), ..., ($t_{+n}$)) or a far point in time ($t_{+n}$). Several strategies allow generating this type of prediction.\n",
        "<br><br>\n",
        ">\n",
        "> ### Recursive multi-step forecasting\n",
        ">\n",
        "> Since the value $t_{n-1}$ is required to predict $t_{n}$, and $t_{n-1}$ is unknown, a recursive process is applied in which, each new prediction, is based on the previous one. This process is known as recursive forecasting or recursive multi-step forecasting and can be easily generated with the `ForecasterAutoreg` and `ForecasterAutoregCustom` classes.\n",
        ">\n",
        "> <p align=\"center\"><img src='https://github.com/JoaquinAmatRodrigo/cienciadedatos.net/blob/main/images/diagram-recursive-mutistep-forecasting.png?raw=true' width=\"600\"/></p>\n",
        ">\n",
        "> <center><font size='2.5'> <i>Recursive multi-step prediction process diagram to predict 3 steps into the future using the last 4 lags of the series as predictors.</i></font></center>\n",
        ">\n",
        "> ### Direct multi-step forecasting\n",
        ">\n",
        "Direct multi-step forecasting consists of training a different model for each step of the forecast horizon. For example, to predict the next 5 values of a time series, 5 different models are trained, one for each step. As a result, the predictions are independent of each other.\n",
        ">\n",
        "> <p align=\"center\"><img src=\"https://github.com/JoaquinAmatRodrigo/cienciadedatos.net/blob/main/images/diagram-direct-multi-step-forecasting.png?raw=true\" style=\"width: 600px\"></p>\n",
        ">\n",
        "> <center><font size='2.5'> <i>Direct multi-step prediction process diagram to predict 3 steps into the future using the last 4 lags of the series as predictors.</i></font></center>\n",
        ">\n",
        "> The main complexity of this approach is to generate the correct training matrices for each model. The `ForecasterAutoregDirect` class of the **skforecast** library automates this process. It is also important to bear in mind that this strategy has a higher computational cost since it requires the train of multiple models. The following diagram shows the process for a case in which the response variable and two exogenous variables are available.\n",
        ">\n",
        "> <p align=\"center\"><img src=\"https://github.com/JoaquinAmatRodrigo/cienciadedatos.net/blob/main/images/diagram_skforecast_multioutput.png?raw=true\" style=\"width: 800px;\"></p>\n",
        ">\n",
        "> <center><font size='2.5'> <i>Transformation of a time series into matrices to train a direct multi-step forecasting model</i></font></center>\n",
        ">\n",
        "> Source: [SkForecast's documentation](https://cienciadedatos.net/documentos/py27-time-series-forecasting-python-scikitlearn.html)"
      ]
    }
  ],
  "metadata": {
    "hide_input": false,
    "interpreter": {
      "hash": "1a1494236c8ef7f8181df502ed65395fa49dc4c7792b0159c6c2a3cecbe5c345"
    },
    "kernelspec": {
      "display_name": "Python 3 (ipykernel)",
      "language": "python",
      "name": "python3"
    },
    "language_info": {
      "codemirror_mode": {
        "name": "ipython",
        "version": 3
      },
      "file_extension": ".py",
      "mimetype": "text/x-python",
      "name": "python",
      "nbconvert_exporter": "python",
      "pygments_lexer": "ipython3",
      "version": "3.9.0"
    },
    "latex_envs": {
      "LaTeX_envs_menu_present": true,
      "autoclose": false,
      "autocomplete": true,
      "bibliofile": "biblio.bib",
      "cite_by": "apalike",
      "current_citInitial": 1,
      "eqLabelWithNumbers": true,
      "eqNumInitial": 1,
      "hotkeys": {
        "equation": "Ctrl-E",
        "itemize": "Ctrl-I"
      },
      "labels_anchors": false,
      "latex_user_defs": false,
      "report_style_numbering": false,
      "user_envs_cfg": false
    },
    "toc": {
      "base_numbering": 1,
      "nav_menu": {},
      "number_sections": true,
      "sideBar": true,
      "skip_h1_title": false,
      "title_cell": "Table of Contents",
      "title_sidebar": "Contents",
      "toc_cell": false,
      "toc_position": {},
      "toc_section_display": true,
      "toc_window_display": false
    },
    "varInspector": {
      "cols": {
        "lenName": 16,
        "lenType": 16,
        "lenVar": 40
      },
      "kernels_config": {
        "python": {
          "delete_cmd_postfix": "",
          "delete_cmd_prefix": "del ",
          "library": "var_list.py",
          "varRefreshCmd": "print(var_dic_list())"
        },
        "r": {
          "delete_cmd_postfix": ") ",
          "delete_cmd_prefix": "rm(",
          "library": "var_list.r",
          "varRefreshCmd": "cat(var_dic_list()) "
        }
      },
      "types_to_exclude": [
        "module",
        "function",
        "builtin_function_or_method",
        "instance",
        "_Feature"
      ],
      "window_display": false
    },
    "colab": {
      "provenance": []
    }
  },
  "nbformat": 4,
  "nbformat_minor": 0
}