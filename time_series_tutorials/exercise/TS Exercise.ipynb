{
 "cells": [
  {
   "cell_type": "code",
   "execution_count": null,
   "id": "e2abb683",
   "metadata": {},
   "outputs": [],
   "source": [
    "!pip install pandas numpy matplotlib statsmodels"
   ]
  },
  {
   "cell_type": "code",
   "execution_count": null,
   "id": "47621989",
   "metadata": {},
   "outputs": [],
   "source": [
    "!pip install pmdarima darts"
   ]
  },
  {
   "cell_type": "markdown",
   "id": "a35a1305",
   "metadata": {},
   "source": [
    "## Download Data"
   ]
  },
  {
   "cell_type": "code",
   "execution_count": null,
   "id": "97f7810b",
   "metadata": {},
   "outputs": [],
   "source": [
    "# https://drive.google.com/file/d/1k2qILdyzADkZBH78bYfiuLqy3sqVLFCB/view?usp=drive_link\n",
    "!gdown 1k2qILdyzADkZBH78bYfiuLqy3sqVLFCB"
   ]
  },
  {
   "cell_type": "markdown",
   "id": "8c03e8c3",
   "metadata": {},
   "source": [
    "## Dataset\n",
    "\n",
    "In this exercise, we're using ticket sales data collected between January 2015 and April 2017. Over time, as there's more demand for tickets, new venues have been added thus increasing total capacity.\n",
    "\n",
    "The `sales_data.csv` file has four columns: `date`, `sold` (number of tickets), `capacity`, and `revenue` ($). We'll be focusing on the number of tickets sold (column `sold`) only.\n",
    "\n",
    "Load the data into a Pandas dataframe and set the date as index."
   ]
  },
  {
   "cell_type": "code",
   "execution_count": null,
   "id": "b9f9d5a5",
   "metadata": {},
   "outputs": [],
   "source": [
    "import pandas as pd\n",
    "import numpy as np\n",
    "import matplotlib.pyplot as plt\n",
    "import matplotlib.dates as mdates\n",
    "\n",
    "# load the data\n",
    "df = ...\n",
    "\n",
    "# set the index\n",
    "...\n",
    "\n",
    "df"
   ]
  },
  {
   "cell_type": "markdown",
   "id": "224b1875",
   "metadata": {},
   "source": [
    "Then, plot the data. Do you see any distinguishable patterns? Does it seem to have a trend over time?"
   ]
  },
  {
   "cell_type": "code",
   "execution_count": null,
   "id": "754fd69e",
   "metadata": {},
   "outputs": [],
   "source": [
    "sales = df[['sold']]\n",
    "sales.plot()"
   ]
  },
  {
   "cell_type": "markdown",
   "id": "1134c077",
   "metadata": {},
   "source": [
    "# Part #0"
   ]
  },
  {
   "cell_type": "markdown",
   "id": "d7d761a2",
   "metadata": {},
   "source": [
    "## Stationarity\n",
    "\n",
    "In order to check if there's a trend or not, we need to check the series' stationarity. We'll use the Augmented Dick-Fuller's Test (the function is reproduced below for your convenience).\n",
    "\n",
    "Hint: you can model a linear trend (if there's one) by adding `t` to the `regression` argument."
   ]
  },
  {
   "cell_type": "code",
   "execution_count": null,
   "id": "5fb61aa8",
   "metadata": {},
   "outputs": [],
   "source": [
    "from statsmodels.tsa.stattools import adfuller\n",
    "\n",
    "def adf_test(timeseries, regression='c'):\n",
    "    print(\"Results of Dickey-Fuller Test:\")\n",
    "    dftest = adfuller(timeseries, autolag=\"AIC\", regression=regression)\n",
    "    dfoutput = pd.Series(\n",
    "        dftest[0:4],\n",
    "        index=[\n",
    "            \"Test Statistic\",\n",
    "            \"p-value\",\n",
    "            \"#Lags Used\",\n",
    "            \"Number of Observations Used\",\n",
    "        ],\n",
    "    )\n",
    "    for key, value in dftest[4].items():\n",
    "        dfoutput[\"Critical Value (%s)\" % key] = value\n",
    "    print(dfoutput)"
   ]
  },
  {
   "cell_type": "code",
   "execution_count": null,
   "id": "141a608b",
   "metadata": {},
   "outputs": [],
   "source": [
    "# run the test\n",
    "..."
   ]
  },
  {
   "cell_type": "markdown",
   "id": "50a4965f",
   "metadata": {},
   "source": [
    "Is there a trend?"
   ]
  },
  {
   "cell_type": "markdown",
   "id": "1019f0b5",
   "metadata": {},
   "source": [
    "## Seasonality\n",
    "\n",
    "Now, we need to check if the series shows signs of seasonality. We may use the partial autocorrelation function (PACF) plot to investigate this.\n",
    "\n",
    "Hint: recurring spikes as every `t` steps are a sign of a seasonality (`t` periods)"
   ]
  },
  {
   "cell_type": "code",
   "execution_count": null,
   "id": "4e7238bc",
   "metadata": {},
   "outputs": [],
   "source": [
    "from statsmodels.graphics.tsaplots import plot_acf\n",
    "\n",
    "# plot the PACF\n",
    "..."
   ]
  },
  {
   "cell_type": "markdown",
   "id": "ebd1d2a1",
   "metadata": {},
   "source": [
    "Is there seasonality in the series?"
   ]
  },
  {
   "cell_type": "markdown",
   "id": "eaa83f25",
   "metadata": {},
   "source": [
    "## ARIMA\n",
    "\n",
    "Let's try an ARIMA model but, first, let's save the last 28 days as our test set."
   ]
  },
  {
   "cell_type": "code",
   "execution_count": null,
   "id": "015a6dee",
   "metadata": {},
   "outputs": [],
   "source": [
    "from pmdarima import model_selection\n",
    "\n",
    "train, test = model_selection.train_test_split(sales, train_size=len(sales)-28)"
   ]
  },
  {
   "cell_type": "markdown",
   "id": "488cb715",
   "metadata": {},
   "source": [
    "The ADF test implemented in `pmdarima` should give us the same result as before and, on top of that, it tell us straight away if we should differentiate the series or not."
   ]
  },
  {
   "cell_type": "code",
   "execution_count": null,
   "id": "4f8fd369",
   "metadata": {},
   "outputs": [],
   "source": [
    "from pmdarima.arima import ADFTest\n",
    "\n",
    "ADFTest().should_diff(train)"
   ]
  },
  {
   "cell_type": "markdown",
   "id": "39a1a777",
   "metadata": {},
   "source": [
    "In order to steer the choice of the appropriate ARIMA model, we need to provide the function with the information about the need (or not) to differentiate the time series (arguments `d` and `D`, the latter for the seasonal component, if any) and if there's seasonality (`seasonal` may be true or false, and `m` specifies the number of periods in the seasonality, as you have determined above)."
   ]
  },
  {
   "cell_type": "code",
   "execution_count": null,
   "id": "218bdf19",
   "metadata": {},
   "outputs": [],
   "source": [
    "import pmdarima as pm\n",
    "\n",
    "# choose your parameters here\n",
    "d = ...\n",
    "D = ...\n",
    "seasonal = ...\n",
    "m = ...\n",
    "\n",
    "# Fit a simple auto_arima model\n",
    "arima = pm.auto_arima(train, \n",
    "                      error_action='ignore', trace=True, suppress_warnings=True, maxiter=5,\n",
    "                      d=d, D=D, seasonal=seasonal, m=m)"
   ]
  },
  {
   "cell_type": "markdown",
   "id": "c149dd81",
   "metadata": {},
   "source": [
    "Now, let's plot the model's fitted values."
   ]
  },
  {
   "cell_type": "code",
   "execution_count": null,
   "id": "36ed1675",
   "metadata": {},
   "outputs": [],
   "source": [
    "fig, ax = plt.subplots(1, 1)\n",
    "ax.plot(train.index, train, label='Actual')\n",
    "ax.plot(train.index, arima.fittedvalues(), label='Fitted', linestyle='--')\n",
    "ax.xaxis.set_major_locator(mdates.MonthLocator(interval=1))\n",
    "plt.xticks(rotation=70)\n",
    "plt.legend()"
   ]
  },
  {
   "cell_type": "markdown",
   "id": "1162d70d",
   "metadata": {},
   "source": [
    "Does it look good? Do you see anything peculiar?\n",
    "\n",
    "Then, let's try a scatter plot to compare actual and forecast values."
   ]
  },
  {
   "cell_type": "code",
   "execution_count": null,
   "id": "e4870047",
   "metadata": {},
   "outputs": [],
   "source": [
    "fig, ax = plt.subplots(1, 1, figsize=(4, 4))\n",
    "ax.scatter(train, arima.fittedvalues(), alpha=0.5)\n",
    "ax.plot([0, 2000], [0, 2000], linestyle='--')\n",
    "ax.set_xlim([0, 2000])\n",
    "ax.set_xlabel('Actual')\n",
    "ax.set_ylim([0, 2000])\n",
    "ax.set_ylabel('Forecast')"
   ]
  },
  {
   "cell_type": "markdown",
   "id": "582f2192",
   "metadata": {},
   "source": [
    "Does it match your expectations, after you've seen the previous plot?\n",
    "\n",
    "Next, let's get some actual metrics for our model, namely, MAPE and sMAPE."
   ]
  },
  {
   "cell_type": "code",
   "execution_count": null,
   "id": "1613465d",
   "metadata": {},
   "outputs": [],
   "source": [
    "def mape(y_true, y_pred):\n",
    "    actual = y_true.copy()\n",
    "    forecast = y_pred.copy()    \n",
    "    if isinstance(actual, (pd.Series, pd.DataFrame)):\n",
    "        actual = actual.values\n",
    "    if isinstance(forecast, (pd.Series, pd.DataFrame)):\n",
    "        forecast = forecast.values\n",
    "    if isinstance(actual, np.ndarray):\n",
    "        actual = actual.squeeze()\n",
    "    if isinstance(forecast, np.ndarray):\n",
    "        forecast = forecast.squeeze()\n",
    "\n",
    "    # Ensure the arrays have the same length\n",
    "    assert len(actual) == len(forecast), \"Length of actual and forecast arrays should be the same\"\n",
    "\n",
    "    # Avoid division by zero by replacing zeros in the 'actual' array with a small number\n",
    "    actual = np.where(actual == 0, 1e-10, actual)\n",
    "\n",
    "    # Calculate MAPE for each data point\n",
    "    mape_values = np.abs((actual - forecast) / actual)\n",
    "\n",
    "    # Calculate the mean MAPE value\n",
    "    mean_mape = np.mean(mape_values) * 100  # Multiply by 100 to get percentage\n",
    "\n",
    "    return mean_mape\n",
    "\n",
    "def smape(y_true, y_pred):\n",
    "    actual = y_true.copy()\n",
    "    forecast = y_pred.copy()\n",
    "    if isinstance(actual, (pd.Series, pd.DataFrame)):\n",
    "        actual = actual.values\n",
    "    if isinstance(forecast, (pd.Series, pd.DataFrame)):\n",
    "        forecast = forecast.values\n",
    "    if isinstance(actual, np.ndarray):\n",
    "        actual = actual.squeeze()\n",
    "    if isinstance(forecast, np.ndarray):\n",
    "        forecast = forecast.squeeze()\n",
    "    \n",
    "    # Ensure the arrays have the same length\n",
    "    assert len(actual) == len(forecast), \"Length of actual and forecast arrays should be the same\"\n",
    "\n",
    "    # Calculate SMAPE for each data point\n",
    "    smape_values = 2 * np.abs(actual - forecast) / (np.abs(actual) + np.abs(forecast))\n",
    "\n",
    "    # Calculate the mean SMAPE value\n",
    "    mean_smape = np.mean(smape_values) * 100  # Multiply by 100 to get percentage\n",
    "\n",
    "    return mean_smape"
   ]
  },
  {
   "cell_type": "code",
   "execution_count": null,
   "id": "37887c6f",
   "metadata": {},
   "outputs": [],
   "source": [
    "# compute MAPE and sMAPE\n",
    "..."
   ]
  },
  {
   "cell_type": "markdown",
   "id": "13eee4ac",
   "metadata": {},
   "source": [
    "Now, let's make a forecast for the 28 days in the future (our test set)."
   ]
  },
  {
   "cell_type": "code",
   "execution_count": null,
   "id": "a7904ff3",
   "metadata": {},
   "outputs": [],
   "source": [
    "x = np.arange(test.shape[0])\n",
    "plt.plot(test.index, test, label='Actual')\n",
    "plt.plot(test.index, arima.predict(n_periods=len(x)), label='Forecast', linestyle='--', c='r')\n",
    "plt.xticks(rotation=70)\n",
    "plt.legend()"
   ]
  },
  {
   "cell_type": "markdown",
   "id": "0aa24238",
   "metadata": {},
   "source": [
    "Is it good? What happens over time? Can you guess why?"
   ]
  },
  {
   "cell_type": "markdown",
   "id": "79015a72",
   "metadata": {},
   "source": [
    "# Part #1"
   ]
  },
  {
   "cell_type": "markdown",
   "id": "d3f82fca",
   "metadata": {},
   "source": [
    "## Simple Exponential Smoothing (SES)\n",
    "\n",
    "Next, let's try a basic SES model but, instead of trying to guess the smoothing and initial levels, we'll let the model estimate the initial level (`initialization_method`) and optimize the smoothing level (`optimized`)."
   ]
  },
  {
   "cell_type": "code",
   "execution_count": null,
   "id": "959213ab",
   "metadata": {},
   "outputs": [],
   "source": [
    "from statsmodels.tsa.api import SimpleExpSmoothing\n",
    "\n",
    "# create the SES model\n",
    "ses = ...\n",
    "ses.params"
   ]
  },
  {
   "cell_type": "markdown",
   "id": "3caf3878",
   "metadata": {},
   "source": [
    "Which smoothing level did we get? Will it track the actual data closely or loosely? Why?\n",
    "\n",
    "After you answered these questions, plot the fitted values to find out."
   ]
  },
  {
   "cell_type": "code",
   "execution_count": null,
   "id": "ea107642",
   "metadata": {},
   "outputs": [],
   "source": [
    "fig, ax = plt.subplots(1, 1)\n",
    "ax.plot(train.index, train, label='Sales')\n",
    "ax.plot(train.index, ses.fittedvalues, linestyle='--', label='Fitted Values')\n",
    "ax.xaxis.set_major_locator(mdates.MonthLocator(interval=1))\n",
    "plt.xticks(rotation=70)\n",
    "ax.legend()"
   ]
  },
  {
   "cell_type": "markdown",
   "id": "b3a1f4d7",
   "metadata": {},
   "source": [
    "Did it match your expectations?\n",
    "\n",
    "If we try the scatter plot once again, do you think it will be better or worse than the previous one? Why?"
   ]
  },
  {
   "cell_type": "code",
   "execution_count": null,
   "id": "d4001c1a",
   "metadata": {},
   "outputs": [],
   "source": [
    "fig, ax = plt.subplots(1, 1, figsize=(4, 4))\n",
    "ax.scatter(train, ses.fittedvalues, alpha=0.5)\n",
    "ax.plot([0, 2000], [0, 2000], linestyle='--')\n",
    "ax.set_xlim([0, 2000])\n",
    "ax.set_xlabel('Actual')\n",
    "ax.set_ylim([0, 2000])\n",
    "ax.set_ylabel('Forecast')"
   ]
  },
  {
   "cell_type": "markdown",
   "id": "11132540",
   "metadata": {},
   "source": [
    "Did you get it right?\n",
    "\n",
    "Let's compute MAPE and sMAPE once again:"
   ]
  },
  {
   "cell_type": "code",
   "execution_count": null,
   "id": "f00c2ef6",
   "metadata": {},
   "outputs": [],
   "source": [
    "# compute MAPE ans sMAPE\n",
    "..."
   ]
  },
  {
   "cell_type": "markdown",
   "id": "ff82f041",
   "metadata": {},
   "source": [
    "Now, consider the 28-day forecast, how would it look like for a SES model? Once you answered it, run the plot below."
   ]
  },
  {
   "cell_type": "code",
   "execution_count": null,
   "id": "c4b5815a",
   "metadata": {},
   "outputs": [],
   "source": [
    "plt.plot(test.index, test, label='Sales')\n",
    "plt.plot(test.index, ses.forecast(28), linestyle='--', c='r', label='Forecast')\n",
    "plt.xticks(rotation=70)\n",
    "plt.legend()"
   ]
  },
  {
   "cell_type": "markdown",
   "id": "3f3656e7",
   "metadata": {},
   "source": [
    "Did it match your expecations?"
   ]
  },
  {
   "cell_type": "markdown",
   "id": "7510ee90",
   "metadata": {},
   "source": [
    "### Probabilistic Forecasting\n",
    "\n",
    "Exponential smoothing models are interesting because they allow us to reframe them as probabilistic (ETS) models. Let's run the very same model as above probabilistic-style!"
   ]
  },
  {
   "cell_type": "code",
   "execution_count": null,
   "id": "2bb05da2",
   "metadata": {},
   "outputs": [],
   "source": [
    "from statsmodels.tsa.exponential_smoothing.ets import ETSModel\n",
    "\n",
    "# create the ETS model here\n",
    "model = ...\n",
    "# fit the model\n",
    "fit = ..."
   ]
  },
  {
   "cell_type": "markdown",
   "id": "54d66d80",
   "metadata": {},
   "source": [
    "Now, forecast the values for the next 28 days, from 2017-04-03 to 2017-04-30 using the `get_prediction()` method:"
   ]
  },
  {
   "cell_type": "code",
   "execution_count": null,
   "id": "0c206b7e",
   "metadata": {},
   "outputs": [],
   "source": [
    "# make forecast\n",
    "pred = ...\n",
    "pred"
   ]
  },
  {
   "cell_type": "markdown",
   "id": "2e82ab12",
   "metadata": {},
   "source": [
    "What do you expect the following cell to produce?"
   ]
  },
  {
   "cell_type": "code",
   "execution_count": null,
   "id": "4d6e433c",
   "metadata": {},
   "outputs": [],
   "source": [
    "pred.predicted_mean"
   ]
  },
  {
   "cell_type": "markdown",
   "id": "b6407172",
   "metadata": {},
   "source": [
    "Let's make it more interesting now and produce some confidence intervals for the prediction (choose an `alpha` level) using the `summary_frame()` method (from the predictions object)"
   ]
  },
  {
   "cell_type": "code",
   "execution_count": null,
   "id": "b9cf08a9",
   "metadata": {},
   "outputs": [],
   "source": [
    "# choose your alpha\n",
    "alpha = ...\n",
    "\n",
    "# call the summary_frame method\n",
    "df = ...\n",
    "df"
   ]
  },
  {
   "cell_type": "markdown",
   "id": "5782e072",
   "metadata": {},
   "source": [
    "Now, use the `simulate()` method (from the fitted model result) to generate multiple forecast scenarios (`repetitions` arg) for a given time period `nsimulations` arg):"
   ]
  },
  {
   "cell_type": "code",
   "execution_count": null,
   "id": "3332c048",
   "metadata": {},
   "outputs": [],
   "source": [
    "nsimulations = ...\n",
    "repetitions = ...\n",
    "\n",
    "simulated = fit.simulate(anchor=\"end\", nsimulations=nsimulations, repetitions=repetitions)\n",
    "simulated"
   ]
  },
  {
   "cell_type": "markdown",
   "id": "d131dea9",
   "metadata": {},
   "source": [
    "The plot below puts everything together, simulations and confidence intervals:"
   ]
  },
  {
   "cell_type": "code",
   "execution_count": null,
   "id": "5a35a23b",
   "metadata": {},
   "outputs": [],
   "source": [
    "for i in range(simulated.shape[1]):\n",
    "    simulated.iloc[:, i].plot(label=\"_\", color=\"gray\", alpha=0.1)\n",
    "\n",
    "df[\"mean\"].plot(label=\"mean prediction\", linestyle='--', c='r')\n",
    "df[\"pi_lower\"].plot(linestyle=\"--\", c='b', label=\"95% interval\")\n",
    "df[\"pi_upper\"].plot(linestyle=\"--\", c='b', label=\"_\")\n",
    "plt.plot(df.index, test, label='Sales')\n",
    "plt.legend()"
   ]
  },
  {
   "cell_type": "markdown",
   "id": "71065cc5",
   "metadata": {},
   "source": [
    "## Holt-Winters\n",
    "\n",
    "It is time to use a better model like Triple Exponential Smoothing (Holt-Winters). In this model, we can specify both trend and seasonal components:\n",
    "- seasonality through `seasonal` (`add`, `mul`, or `None`) and `seasonal_periods` arguments\n",
    "- trend through `trend` (`add`, `mul`, or `None`) argument\n",
    "As before, we can have the model estimate the initial level and optimize the smoothing level."
   ]
  },
  {
   "cell_type": "code",
   "execution_count": null,
   "id": "5b0f488c",
   "metadata": {},
   "outputs": [],
   "source": [
    "from statsmodels.tsa.api import ExponentialSmoothing\n",
    "\n",
    "# choose the number of periods\n",
    "seasonal_periods = ...\n",
    "\n",
    "# create an instance of exponential smoothing and call its fit() method in one go\n",
    "holt_winters = ..."
   ]
  },
  {
   "cell_type": "markdown",
   "id": "213fb7fe",
   "metadata": {},
   "source": [
    "Let's visualize the actual and fitted values, both as line and scatter plots:"
   ]
  },
  {
   "cell_type": "code",
   "execution_count": null,
   "id": "69b18622",
   "metadata": {},
   "outputs": [],
   "source": [
    "fig, ax = plt.subplots(1, 1)\n",
    "ax.plot(train.index, train, label='Sales')\n",
    "ax.plot(train.index, holt_winters.fittedvalues, linestyle='--', label='Fitted Values')\n",
    "ax.xaxis.set_major_locator(mdates.MonthLocator(interval=1))\n",
    "plt.xticks(rotation=70)\n",
    "ax.legend()"
   ]
  },
  {
   "cell_type": "code",
   "execution_count": null,
   "id": "c7cd50cd",
   "metadata": {},
   "outputs": [],
   "source": [
    "fig, ax = plt.subplots(1, 1, figsize=(4, 4))\n",
    "ax.scatter(train, holt_winters.fittedvalues, alpha=0.5)\n",
    "ax.plot([0, 2000], [0, 2000], linestyle='--')\n",
    "ax.set_xlim([0, 2000])\n",
    "ax.set_xlabel('Actual')\n",
    "ax.set_ylim([0, 2000])\n",
    "ax.set_ylabel('Forecast')"
   ]
  },
  {
   "cell_type": "markdown",
   "id": "53d2d5b7",
   "metadata": {},
   "source": [
    "How does this model compare to the first ARIMA model we fitted?\n",
    "\n",
    "Compute both MAPE and sMAPE metrics to get a more definitive answer."
   ]
  },
  {
   "cell_type": "code",
   "execution_count": null,
   "id": "b4644545",
   "metadata": {},
   "outputs": [],
   "source": [
    "# compute MAPE and sMAPE\n",
    "..."
   ]
  },
  {
   "cell_type": "markdown",
   "id": "a23f4625",
   "metadata": {},
   "source": [
    "Now, make a forecast for 28 days ahead using the `forecast()` method and compare to the actual data:"
   ]
  },
  {
   "cell_type": "code",
   "execution_count": null,
   "id": "aa17635c",
   "metadata": {},
   "outputs": [],
   "source": [
    "# make the forecast\n",
    "fc_values = ...\n",
    "\n",
    "plt.plot(test.index, test, label='Sales')\n",
    "plt.plot(test.index, fc_values, linestyle='--', c='r', label='Fitted Values')\n",
    "plt.xticks(rotation=70)\n",
    "plt.legend()"
   ]
  },
  {
   "cell_type": "markdown",
   "id": "10c04b28",
   "metadata": {},
   "source": [
    "How is this forecast different than the previous ones (e.g. patterns, evolution over time)?\n",
    "\n",
    "Let's make it more interesting by fitting a probabilistic model. We're still using the `ETSModel` class, but we can add the same arguments we've already used to fit the Holt-Winters models above."
   ]
  },
  {
   "cell_type": "code",
   "execution_count": null,
   "id": "d3f3aad8",
   "metadata": {},
   "outputs": [],
   "source": [
    "from statsmodels.tsa.exponential_smoothing.ets import ETSModel\n",
    "\n",
    "# choose the number of periods\n",
    "seasonal_periods = ...\n",
    "\n",
    "# create an instance of the ETS model using the same arguments as the exponential smoothing model above\n",
    "model = ...\n",
    "# fit the model\n",
    "fit = ..."
   ]
  },
  {
   "cell_type": "markdown",
   "id": "a8da319a",
   "metadata": {},
   "source": [
    "Make predictions using the `get_prediction()` method for the period starting on 2017-04-03 and ending on 2017-04-30 and plot the predicted mean against actual sales."
   ]
  },
  {
   "cell_type": "code",
   "execution_count": null,
   "id": "eb99f652",
   "metadata": {},
   "outputs": [],
   "source": [
    "# make predictions\n",
    "pred = ..."
   ]
  },
  {
   "cell_type": "code",
   "execution_count": null,
   "id": "f2bee959",
   "metadata": {},
   "outputs": [],
   "source": [
    "# get the predicted mean\n",
    "fit_vals = ...\n",
    "\n",
    "plt.plot(test.index, test, label='Sales')\n",
    "plt.plot(test.index, fit_vals, linestyle='--', c='r', label='Fitted Values')\n",
    "plt.xticks(rotation=70)\n",
    "plt.legend()"
   ]
  },
  {
   "cell_type": "markdown",
   "id": "b1210125",
   "metadata": {},
   "source": [
    "### Probabilistic Forecasting\n",
    "\n",
    "Now, compute confidence intervals using the `summary_frame()` method once again. Next, simulate forecast scenarios for 28 days ahead using `simulate()` method once again."
   ]
  },
  {
   "cell_type": "code",
   "execution_count": null,
   "id": "94bdcf2c",
   "metadata": {},
   "outputs": [],
   "source": [
    "# compute confidence intervals\n",
    "df = ...\n",
    "\n",
    "# simulate forecast scenarios\n",
    "simulated = ..."
   ]
  },
  {
   "cell_type": "code",
   "execution_count": null,
   "id": "48f599bb",
   "metadata": {},
   "outputs": [],
   "source": [
    "for i in range(simulated.shape[1]):\n",
    "    simulated.iloc[:, i].plot(label=\"_\", color=\"gray\", alpha=0.05)\n",
    "\n",
    "plt.plot(df.index, test, label='Sales')\n",
    "df[\"mean\"].plot(label=\"mean prediction\", linestyle='--', c='r')\n",
    "df[\"pi_lower\"].plot(linestyle=\"--\", color=\"b\", label=\"95% interval\")\n",
    "df[\"pi_upper\"].plot(linestyle=\"--\", color=\"b\", label=\"_\")\n",
    "plt.legend()"
   ]
  },
  {
   "cell_type": "markdown",
   "id": "0ef1578e",
   "metadata": {},
   "source": [
    "# Part #2"
   ]
  },
  {
   "cell_type": "markdown",
   "id": "516c957f",
   "metadata": {},
   "source": [
    "## Seasonal Decomposition\n",
    "\n",
    "Decompose the training set into its trend, seasonal, and residual components using statsmodels' `seasonal_decompose`:"
   ]
  },
  {
   "cell_type": "code",
   "execution_count": null,
   "id": "486f310d",
   "metadata": {},
   "outputs": [],
   "source": [
    "from statsmodels.tsa.seasonal import seasonal_decompose\n",
    "\n",
    "# decompose the time series\n",
    "result = ...\n",
    "result.plot();"
   ]
  },
  {
   "cell_type": "code",
   "execution_count": null,
   "id": "51172453",
   "metadata": {},
   "outputs": [],
   "source": [
    "df = pd.concat([result.trend, result.seasonal, result.resid], axis=1).tail(20)\n",
    "df"
   ]
  },
  {
   "cell_type": "markdown",
   "id": "87da4eef",
   "metadata": {},
   "source": [
    "What's happening at the end of the training period? Why?\n",
    "\n",
    "Compute the strength of both trend and seasonal components. Did you expect the results?"
   ]
  },
  {
   "cell_type": "code",
   "execution_count": null,
   "id": "b099ccbc",
   "metadata": {},
   "outputs": [],
   "source": [
    "# Trend\n",
    "strength_trend = max(0, 1-df['resid'].var()/(df['resid']+df['trend']).var())\n",
    "\n",
    "# Season\n",
    "strength_season = max(0, 1-df['resid'].var()/(df['resid']+df['seasonal']).var())\n",
    "\n",
    "strength_trend, strength_season"
   ]
  },
  {
   "cell_type": "markdown",
   "id": "d1f1f9e5",
   "metadata": {},
   "source": [
    "## STL Decomposition\n",
    "\n",
    "Now, use STL decomposition instead. Remember that `period` represnts the seasonality period while `seasonal` (as confusing as it may be) represents **how many seasons** should be used to smoothen the seasonality using LOESS."
   ]
  },
  {
   "cell_type": "code",
   "execution_count": null,
   "id": "2f3f8386",
   "metadata": {},
   "outputs": [],
   "source": [
    "from statsmodels.tsa.seasonal import STL\n",
    "\n",
    "# create an instance of STL\n",
    "stl = ...\n",
    "\n",
    "# fit the decomposition\n",
    "res = ...\n",
    "res.plot();"
   ]
  },
  {
   "cell_type": "markdown",
   "id": "4620ede2",
   "metadata": {},
   "source": [
    "Look at the seasonal component of the plot above. How is it different than traditional seasonal decomposition? Why is that?"
   ]
  },
  {
   "cell_type": "code",
   "execution_count": null,
   "id": "0a5c8eba",
   "metadata": {},
   "outputs": [],
   "source": [
    "df = pd.concat([res.trend, res.seasonal, res.resid], axis=1).tail(20)\n",
    "df"
   ]
  },
  {
   "cell_type": "markdown",
   "id": "c70ecae0",
   "metadata": {},
   "source": [
    "Compute the strength of both trend and seasonal components:"
   ]
  },
  {
   "cell_type": "code",
   "execution_count": null,
   "id": "7357f2d5",
   "metadata": {},
   "outputs": [],
   "source": [
    "# Trend\n",
    "strength_trend = max(0, 1-df['resid'].var()/(df['resid']+df['trend']).var())\n",
    "\n",
    "# Season\n",
    "strength_season = max(0, 1-df['resid'].var()/(df['resid']+df['season']).var())\n",
    "\n",
    "strength_trend, strength_season"
   ]
  },
  {
   "cell_type": "markdown",
   "id": "ad364f5c",
   "metadata": {},
   "source": [
    "Now, use `STLForecast` to model and forecast seasonality while using an exponential smoothing model to forecast both level and trend (if any):"
   ]
  },
  {
   "cell_type": "code",
   "execution_count": null,
   "id": "45977419",
   "metadata": {},
   "outputs": [],
   "source": [
    "from statsmodels.tsa.api import STLForecast\n",
    "from statsmodels.tsa.statespace import exponential_smoothing\n",
    "\n",
    "index = pd.date_range(train.index[0], periods=len(train), freq='D')\n",
    "train.index = index\n",
    "\n",
    "ES = exponential_smoothing.ExponentialSmoothing\n",
    "config = {\"trend\": False, \"initialization_method\": \"estimated\"}\n",
    "\n",
    "# choose the period and number of seasons\n",
    "period = ...\n",
    "s_window = ...\n",
    "\n",
    "stlf = STLForecast(train, ES, model_kwargs=config, period=period, seasonal=s_window)\n",
    "resf = stlf.fit()\n",
    "forecasts = resf.forecast(28)"
   ]
  },
  {
   "cell_type": "code",
   "execution_count": null,
   "id": "f4607403",
   "metadata": {},
   "outputs": [],
   "source": [
    "plt.plot(test.index, test, label='Sales')\n",
    "plt.plot(test.index, forecasts, label='Forecast', c='r', linestyle='--')\n",
    "plt.xticks(rotation=70)\n",
    "plt.legend()"
   ]
  },
  {
   "cell_type": "markdown",
   "id": "fc876e6a",
   "metadata": {},
   "source": [
    "How is this forecast different from that produced by the Holt-Winters method? Why?"
   ]
  },
  {
   "cell_type": "markdown",
   "id": "870406bc",
   "metadata": {},
   "source": [
    "# Part #3"
   ]
  },
  {
   "cell_type": "markdown",
   "id": "629a7408",
   "metadata": {},
   "source": [
    "## Feature Engineering\n",
    "\n",
    "It is time to do some feature engineering. We'll create deterministic features out of the date components.\n",
    "\n",
    "### Date Components\n",
    "\n",
    "The index is being recreated as a proper date index to allow you to easily extract date components such as `day`, `month`, `weekday`, `weekofyear`, etc. \n",
    "\n",
    "Given the seasonality of our time series, which components would you choose? For each chosen component, create a corresponding column in the `train` dataframe.\n",
    "\n",
    "Hint: `weekofyear` was deprecated in favor of `isocalendar().week.astype(int)`"
   ]
  },
  {
   "cell_type": "code",
   "execution_count": null,
   "id": "b323a59f",
   "metadata": {},
   "outputs": [],
   "source": [
    "index = pd.date_range('2015-01-01', periods=823, freq='D')\n",
    "train.index = index\n",
    "\n",
    "train['t'] = pd.RangeIndex(len(train))\n",
    "\n",
    "# create one or more columns in the DF using properties of the index\n",
    "newcol1 = ...\n",
    "train[newcol1] = train.index.<CHOSEN_PROPERTY>"
   ]
  },
  {
   "cell_type": "markdown",
   "id": "43b66d45",
   "metadata": {},
   "source": [
    "Now, use an R-style formula to describe how sold tickets (`sold`) can be expressed in terms of the chosen components. Remember that categorical features must be wrapped with a `C()` function in the formula."
   ]
  },
  {
   "cell_type": "code",
   "execution_count": null,
   "id": "6c3c0ccc",
   "metadata": {},
   "outputs": [],
   "source": [
    "import statsmodels.formula.api as smf\n",
    "\n",
    "# https://www.statsmodels.org/stable/example_formulas.html\n",
    "# write your formula here\n",
    "formula = ...\n",
    "\n",
    "mod_dummy = smf.ols(formula, data=train).fit()\n",
    "mod_dummy.summary()"
   ]
  },
  {
   "cell_type": "markdown",
   "id": "700f0456",
   "metadata": {},
   "source": [
    "Use the model to make predictions using the dummy variables you created:"
   ]
  },
  {
   "cell_type": "code",
   "execution_count": null,
   "id": "754942e4",
   "metadata": {},
   "outputs": [],
   "source": [
    "# create a list of the column names you used in the formula\n",
    "columns = ...\n",
    "features = train[columns]\n",
    "\n",
    "# make predictions\n",
    "pred = ...\n",
    "pred"
   ]
  },
  {
   "cell_type": "code",
   "execution_count": null,
   "id": "1325bf85",
   "metadata": {},
   "outputs": [],
   "source": [
    "train['sold'].plot(label='Data')\n",
    "pred.plot(label='Fitted', linestyle='--')\n",
    "plt.legend()"
   ]
  },
  {
   "cell_type": "markdown",
   "id": "4d1cb1d0",
   "metadata": {},
   "source": [
    "How does it look like?\n",
    "\n",
    "Compute both MAPE and sMAPE."
   ]
  },
  {
   "cell_type": "code",
   "execution_count": null,
   "id": "459b7df8",
   "metadata": {},
   "outputs": [],
   "source": [
    "# compute MAPE and sMAPE\n",
    "..."
   ]
  },
  {
   "cell_type": "markdown",
   "id": "24eaffef",
   "metadata": {},
   "source": [
    "Now, make a forecast for the next 28 days. We'll need to recreate the index for the test set as well to re-create the same features we chose to extract in the training set."
   ]
  },
  {
   "cell_type": "code",
   "execution_count": null,
   "id": "a3eab6fa",
   "metadata": {},
   "outputs": [],
   "source": [
    "index = pd.date_range('2017-04-03', periods=28, freq='D')\n",
    "test.index = index\n",
    "\n",
    "test['t'] = pd.RangeIndex(len(test))\n",
    "\n",
    "# create one or more columns in the DF using properties of the index - they must match those of the training set\n",
    "newcol1 = ...\n",
    "test[newcol1] = train.index.<CHOSEN_PROPERTY>"
   ]
  },
  {
   "cell_type": "markdown",
   "id": "11116268",
   "metadata": {},
   "source": [
    "Use the model to make the forecast:"
   ]
  },
  {
   "cell_type": "code",
   "execution_count": null,
   "id": "10ba023c",
   "metadata": {},
   "outputs": [],
   "source": [
    "# create a list of the column names you used in the formula\n",
    "columns = ...\n",
    "features = test[columns]\n",
    "\n",
    "fcast = ..."
   ]
  },
  {
   "cell_type": "code",
   "execution_count": null,
   "id": "5ae4f706",
   "metadata": {},
   "outputs": [],
   "source": [
    "test['sold'].plot(label='Data')\n",
    "fcast.plot(label='Forecast', linestyle='--', c='r')\n",
    "plt.legend()"
   ]
  },
  {
   "cell_type": "markdown",
   "id": "25ee31ed",
   "metadata": {},
   "source": [
    "What does this forecast look like? Is it good or not? Why?"
   ]
  },
  {
   "cell_type": "markdown",
   "id": "0634c7ff",
   "metadata": {},
   "source": [
    "### Lags\n",
    "\n",
    "Now, let's use DARTS to create a linear model that uses lags of the target variable itself as features. Although it's a simple linear regression, using DARTS saves us the trouble of having to loop through predictions to make forecast several periods ahead.\n",
    "\n",
    "The `lags` argument takes a list of negative values corresponding to how many time steps in the past should be used as features. For example, `-1` indicates the value from yesterday (assuming daily frequency) should be used as feature to forecast today's value.\n",
    "\n",
    "Create a model and choose one or more lags (consider the seasonality of the time series in your choice). DARTS requires the input to be a `TimeSeries` object, so we're creating one from a copy of our series."
   ]
  },
  {
   "cell_type": "code",
   "execution_count": null,
   "id": "ebbee600",
   "metadata": {},
   "outputs": [],
   "source": [
    "from darts import TimeSeries\n",
    "new_y = train['sold'].copy()\n",
    "ts_y = TimeSeries.from_series(new_y)\n",
    "ts_y"
   ]
  },
  {
   "cell_type": "code",
   "execution_count": null,
   "id": "ba1ecb2d",
   "metadata": {},
   "outputs": [],
   "source": [
    "from darts.models import LinearRegressionModel\n",
    "\n",
    "# create a list of the lags to be used as features\n",
    "lags = ...\n",
    "\n",
    "model = LinearRegressionModel(lags=lags)\n",
    "# fit the model\n",
    "..."
   ]
  },
  {
   "cell_type": "markdown",
   "id": "dc24229b",
   "metadata": {},
   "source": [
    "You can inspect the corresponding coefficients by retrieving the underlying linear model (which is a Scikit-Learn model in this case):"
   ]
  },
  {
   "cell_type": "code",
   "execution_count": null,
   "id": "953564b7",
   "metadata": {},
   "outputs": [],
   "source": [
    "model.model"
   ]
  },
  {
   "cell_type": "code",
   "execution_count": null,
   "id": "a24ecbe7",
   "metadata": {},
   "outputs": [],
   "source": [
    "model.model.coef_"
   ]
  },
  {
   "cell_type": "markdown",
   "id": "e8c0585b",
   "metadata": {},
   "source": [
    "Use the model's `historical_forecasts()` method to obtain the fitted values:"
   ]
  },
  {
   "cell_type": "code",
   "execution_count": null,
   "id": "a6ab855b",
   "metadata": {},
   "outputs": [],
   "source": [
    "fittedvals = ..."
   ]
  },
  {
   "cell_type": "code",
   "execution_count": null,
   "id": "43c85b2d",
   "metadata": {},
   "outputs": [],
   "source": [
    "ts_y.plot(label='Data')\n",
    "fittedvals.plot(label='Fitted', linestyle='--', c='orange')"
   ]
  },
  {
   "cell_type": "markdown",
   "id": "df2a9d6f",
   "metadata": {},
   "source": [
    "Let's check both MAPE and sMAPE (since we're using lagged features, there are fewer fitted values than the number of original values):"
   ]
  },
  {
   "cell_type": "code",
   "execution_count": null,
   "id": "cdda3386",
   "metadata": {},
   "outputs": [],
   "source": [
    "mape(ts_y.values()[30:], fittedvals.values()), smape(ts_y.values()[30:], fittedvals.values())"
   ]
  },
  {
   "cell_type": "markdown",
   "id": "f5d293c0",
   "metadata": {},
   "source": [
    "Now, use the model's `predict()` method to make a forecast for 28 days in the future."
   ]
  },
  {
   "cell_type": "code",
   "execution_count": null,
   "id": "f4096eaa",
   "metadata": {},
   "outputs": [],
   "source": [
    "fcast = ...\n",
    "fcast"
   ]
  },
  {
   "cell_type": "code",
   "execution_count": null,
   "id": "d56be36d",
   "metadata": {},
   "outputs": [],
   "source": [
    "TimeSeries.from_series(test['sold']).plot(label='Actual')\n",
    "fcast.plot(label='Forecast', c='r', linestyle='--')"
   ]
  },
  {
   "cell_type": "markdown",
   "id": "5ef1cb84",
   "metadata": {},
   "source": [
    "Is this forecast better or worse than that produced by the model using date components? How is it different?"
   ]
  },
  {
   "cell_type": "markdown",
   "id": "f7859616",
   "metadata": {},
   "source": [
    "## ML Model\n",
    "\n",
    "Now, let's use a ML model to combine both lagged features, date components, and yet another feature: holidays."
   ]
  },
  {
   "cell_type": "markdown",
   "id": "e3478b33",
   "metadata": {},
   "source": [
    "### Holidays\n",
    "\n",
    "Holidays are important features whenever human behavior is part of the data generating process (e.g. sales, travel, etc.). In DARTS, we can retrieve holidays for countries and regions using the `holidays_timeseries()` function."
   ]
  },
  {
   "cell_type": "code",
   "execution_count": null,
   "id": "430212cb",
   "metadata": {},
   "outputs": [],
   "source": [
    "from darts.utils.timeseries_generation import holidays_timeseries\n",
    "\n",
    "def get_holiday(idx):\n",
    "    return holidays_timeseries(idx, country_code='DE')"
   ]
  },
  {
   "cell_type": "markdown",
   "id": "04d98399",
   "metadata": {},
   "source": [
    "Holidays, like other date components, are known **ahead of time**, so they are **future covariates**. To build the corresponding time series, so that we can use it in our ML model, we need to compute holiday features for the totality of dates (both in train and test sets)."
   ]
  },
  {
   "cell_type": "code",
   "execution_count": null,
   "id": "2c0f8701",
   "metadata": {},
   "outputs": [],
   "source": [
    "future_cov = get_holiday(train.index.union(test.index))\n",
    "future_cov"
   ]
  },
  {
   "cell_type": "markdown",
   "id": "ccceca38",
   "metadata": {},
   "source": [
    "We don't need to manually build time series for every date component, though. We can use the `add_encoders` argument that allows us to easily create future covariates as a dictionary. You only need to list the desired features (e.g. `dayofweek`, `weekofyear`, `month`, etc.)."
   ]
  },
  {
   "cell_type": "code",
   "execution_count": null,
   "id": "017d7f96",
   "metadata": {},
   "outputs": [],
   "source": [
    "# create your list of covariates here\n",
    "covariates = ...\n",
    "\n",
    "add_encoders={\n",
    "    'datetime_attribute': {'future': covariates},\n",
    "}"
   ]
  },
  {
   "cell_type": "markdown",
   "id": "c4d35b73",
   "metadata": {},
   "source": [
    "Now, create an instance of `RandomForest` model. You may provide the following arguments:\n",
    "- `lags`: a list of **negative** values specifying the lags to be used as features\n",
    "- `lags_future_covariates`: a list of **positive** values specifying the look-ahead for the future covariates, a value of 0 means it will use the value for the date being forecast\n",
    "- `output_chunk_length`: how many steps ahead you'd like the model to predict (e.g. 1 for single-step or 7 for predicting 7 days ahead at once thus avoiding auto-regressing behavior inside this time period)\n",
    "- `add_encoders`: the dictionary specifying which features are going to be computed and added to the model\n",
    "\n",
    "You also need to provide arguments that are specific to the chosen model (random forest), such as `n_estimators` (the number of trees), `max_depth`, and `criterion` (e.g. `absolute error`)."
   ]
  },
  {
   "cell_type": "code",
   "execution_count": null,
   "id": "71672a32",
   "metadata": {},
   "outputs": [],
   "source": [
    "from darts.models import RandomForest\n",
    "\n",
    "# create an instance of the RandomForest model\n",
    "model2 = ..."
   ]
  },
  {
   "cell_type": "markdown",
   "id": "cfa404d6",
   "metadata": {},
   "source": [
    "Once the model is created, you may call its `fit()` method as usual, but don't forget to pass your future covariates (holidays, in this case) in the `future_covariates` argument:"
   ]
  },
  {
   "cell_type": "code",
   "execution_count": null,
   "id": "cad04b63",
   "metadata": {},
   "outputs": [],
   "source": [
    "# fit the model (don't forget the future covariates)\n",
    "..."
   ]
  },
  {
   "cell_type": "markdown",
   "id": "028b23c5",
   "metadata": {},
   "source": [
    "Use the model's `historical_forecasts()` method to obtain the fitted values. We may set the `retrain` argument to false to avoid retraining as many models as there are data points."
   ]
  },
  {
   "cell_type": "code",
   "execution_count": null,
   "id": "423b0625",
   "metadata": {},
   "outputs": [],
   "source": [
    "fittedvals = ..."
   ]
  },
  {
   "cell_type": "code",
   "execution_count": null,
   "id": "836ad3e7",
   "metadata": {},
   "outputs": [],
   "source": [
    "ts_y.plot(label='Data')\n",
    "fittedvals.plot(label='Fitted', linestyle='--', c='orange')"
   ]
  },
  {
   "cell_type": "markdown",
   "id": "7c8c396c",
   "metadata": {},
   "source": [
    "Let's check both MAPE and sMAPE (since we're using lagged features, there are fewer fitted values than the number of original values):"
   ]
  },
  {
   "cell_type": "code",
   "execution_count": null,
   "id": "ffbfced3",
   "metadata": {},
   "outputs": [],
   "source": [
    "mape(ts_y.values()[28:], fittedvals.values()), smape(ts_y.values()[28:], fittedvals.values())"
   ]
  },
  {
   "cell_type": "markdown",
   "id": "8e10e49e",
   "metadata": {},
   "source": [
    "We may also retrieve the feature importances since it's a tree-based model:"
   ]
  },
  {
   "cell_type": "code",
   "execution_count": null,
   "id": "4a3fdd47",
   "metadata": {},
   "outputs": [],
   "source": [
    "model2.lagged_feature_names"
   ]
  },
  {
   "cell_type": "code",
   "execution_count": null,
   "id": "689d1a10",
   "metadata": {},
   "outputs": [],
   "source": [
    "dict(zip(model2.lagged_feature_names, model2.model.feature_importances_))"
   ]
  },
  {
   "cell_type": "markdown",
   "id": "2834e9e0",
   "metadata": {},
   "source": [
    "Check the most important features. Do they make sense, intuitively speaking?\n",
    "\n",
    "Now, use the model's `predict()` method to make a forecast for 28 days in the future."
   ]
  },
  {
   "cell_type": "code",
   "execution_count": null,
   "id": "d0b3fce5",
   "metadata": {},
   "outputs": [],
   "source": [
    "pred2 = ..."
   ]
  },
  {
   "cell_type": "code",
   "execution_count": null,
   "id": "8ff60858",
   "metadata": {},
   "outputs": [],
   "source": [
    "TimeSeries.from_series(test['sold']).plot(label='Actual')\n",
    "pred2.plot(label='Forecast', c='r', linestyle='--')"
   ]
  },
  {
   "cell_type": "markdown",
   "id": "e7d2a5d8",
   "metadata": {},
   "source": [
    "# Part #4"
   ]
  },
  {
   "cell_type": "markdown",
   "id": "b55d22a7",
   "metadata": {},
   "source": [
    "### Backtesting\n",
    "\n",
    "We can also backtest, that is, cross-validate on a variety of rolling windows, with or without retraining using DARTS' `backtest()` method.\n",
    "\n",
    "It requires the time series and future covariates, just like the `fit()` method, but it also requires a few other arguments that drive the splitting behavior (`start`, `forecast_horizon`, `stride`, `train_length`) and, if you'd like to inspect the metrics after every step, the `reduction` argument should be set to `None`.\n",
    "\n",
    "We may retrain the model every week (`stride=7`) to make predictions for the following week or month (`forecast_horizon` equals 7 or 28), using 750 data points (`train_length`) to begin with."
   ]
  },
  {
   "cell_type": "code",
   "execution_count": null,
   "id": "d6885a66",
   "metadata": {},
   "outputs": [],
   "source": [
    "res7 = model2.backtest(ts_y, future_covariates=future_cov,\n",
    "                       start=None, forecast_horizon=7, stride=7, train_length=750, reduction=None)\n",
    "res28 = model2.backtest(ts_y, future_covariates=future_cov, \n",
    "                        start=None, forecast_horizon=28, stride=7, train_length=750, reduction=None)"
   ]
  },
  {
   "cell_type": "code",
   "execution_count": null,
   "id": "ee88bcbe",
   "metadata": {},
   "outputs": [],
   "source": [
    "print(res7)"
   ]
  },
  {
   "cell_type": "code",
   "execution_count": null,
   "id": "cc4b642b",
   "metadata": {},
   "outputs": [],
   "source": [
    "print(res28)"
   ]
  },
  {
   "cell_type": "markdown",
   "id": "098540e9",
   "metadata": {},
   "source": [
    "# Part 5\n",
    "\n",
    "### TBATS\n",
    "\n",
    "Create an instance of a TBATS model using one or more seasonalities:"
   ]
  },
  {
   "cell_type": "code",
   "execution_count": 80,
   "id": "fffe49c5",
   "metadata": {},
   "outputs": [],
   "source": [
    "from tbats import TBATS\n",
    "\n",
    "if __name__ == '__main__':\n",
    "    estimator = ..."
   ]
  },
  {
   "cell_type": "markdown",
   "id": "7ffc960c",
   "metadata": {},
   "source": [
    "Fit the model on training data:"
   ]
  },
  {
   "cell_type": "code",
   "execution_count": null,
   "id": "b1829d37",
   "metadata": {},
   "outputs": [],
   "source": [
    "# Fit the model\n",
    "fitted_model = ...\n",
    "\n",
    "# Summarize fitted model\n",
    "print(fitted_model.summary())"
   ]
  },
  {
   "cell_type": "code",
   "execution_count": null,
   "id": "bf33b42b",
   "metadata": {},
   "outputs": [],
   "source": [
    "ax = train['sold'].plot(label='Data')\n",
    "pred = pd.Series(fitted_model.y_hat, index=train['sold'].index)\n",
    "ax.plot(pred, label='Fitted', linestyle='--')\n",
    "plt.legend()"
   ]
  },
  {
   "cell_type": "markdown",
   "id": "177047ef",
   "metadata": {},
   "source": [
    "Evaluate the trained model by computing both MAPE and sMAPE:"
   ]
  },
  {
   "cell_type": "code",
   "execution_count": null,
   "id": "8740a9b1",
   "metadata": {},
   "outputs": [],
   "source": [
    "..."
   ]
  },
  {
   "cell_type": "markdown",
   "id": "adab036d",
   "metadata": {},
   "source": [
    "Forecast 28 steps ahead using its `forecast()` method:"
   ]
  },
  {
   "cell_type": "code",
   "execution_count": 100,
   "id": "8c01545c",
   "metadata": {},
   "outputs": [
    {
     "data": {
      "text/plain": [
       "array([1244.97447072, 1029.61445205, 1098.23953261, 1217.14650961,\n",
       "       1844.05922651, 1531.22958269, 1680.81011346, 1226.77528771,\n",
       "       1045.5280562 , 1112.7578798 , 1230.75351538, 1861.30884959,\n",
       "       1543.10910418, 1691.57010689, 1233.26507096, 1050.15362309,\n",
       "       1116.986005  , 1234.94811483, 1867.33330407, 1548.15244669,\n",
       "       1697.46087065, 1238.01948493, 1054.73198852, 1122.53410943,\n",
       "       1241.92083864, 1879.21883942, 1559.12981714, 1710.68456265])"
      ]
     },
     "execution_count": 100,
     "metadata": {},
     "output_type": "execute_result"
    }
   ],
   "source": [
    "# Forecast 28 steps ahead\n",
    "fcast = ...\n",
    "fcast"
   ]
  },
  {
   "cell_type": "code",
   "execution_count": 101,
   "id": "2f17304b",
   "metadata": {},
   "outputs": [
    {
     "data": {
      "text/plain": [
       "<matplotlib.legend.Legend at 0x7ff1b8561070>"
      ]
     },
     "execution_count": 101,
     "metadata": {},
     "output_type": "execute_result"
    },
    {
     "data": {
      "image/png": "[encoded data removed]",
      "text/plain": [
       "<Figure size 640x480 with 1 Axes>"
      ]
     },
     "metadata": {},
     "output_type": "display_data"
    }
   ],
   "source": [
    "ax = test['sold'].plot(label='Data')\n",
    "ax.plot(pd.Series(fcast, index=test['sold'].index), label='Forecast', linestyle='--', c='r')\n",
    "plt.legend()"
   ]
  },
  {
   "cell_type": "code",
   "execution_count": null,
   "id": "093ba0a3",
   "metadata": {},
   "outputs": [],
   "source": []
  }
 ],
 "metadata": {
  "kernelspec": {
   "display_name": "Python 3 (ipykernel)",
   "language": "python",
   "name": "python3"
  },
  "language_info": {
   "codemirror_mode": {
    "name": "ipython",
    "version": 3
   },
   "file_extension": ".py",
   "mimetype": "text/x-python",
   "name": "python",
   "nbconvert_exporter": "python",
   "pygments_lexer": "ipython3",
   "version": "3.9.0"
  }
 },
 "nbformat": 4,
 "nbformat_minor": 5
}
